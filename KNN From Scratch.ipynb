{
 "cells": [
  {
   "cell_type": "markdown",
   "id": "12c225ed-7928-4151-9f8b-8017ae5af9e4",
   "metadata": {},
   "source": [
    "## Girish Amar Budhrani\n",
    "## KNN Clustering from scratch"
   ]
  },
  {
   "cell_type": "code",
   "execution_count": 14,
   "id": "44c08bcc-0490-43ca-87c9-c2499a8a7158",
   "metadata": {},
   "outputs": [],
   "source": [
    "import matplotlib.pyplot as plt\n",
    "import numpy as np"
   ]
  },
  {
   "cell_type": "markdown",
   "id": "3da4733b-71ca-47a4-b007-32577cb01f5d",
   "metadata": {},
   "source": [
    "#### Input data and Center points(Given)"
   ]
  },
  {
   "cell_type": "code",
   "execution_count": 15,
   "id": "24e28e4f-0027-4661-9e08-1c3190efaede",
   "metadata": {},
   "outputs": [],
   "source": [
    "#X is input data\n",
    "# center_point in the 3 given center points\n",
    "X = np.array([[5.9, 3.2], [4.6, 2.9], [6.2, 2.8], [4.7, 3.2], [5.5, 4.2], [5.0, 3.0], [4.9, 3.1], [6.7, 3.1], [5.1, 3.8], [6.0, 3.0]])\n",
    "center_point = [[6.2, 3.2], [6.6, 3.7], [6.5, 3.0]]"
   ]
  },
  {
   "cell_type": "code",
   "execution_count": 16,
   "id": "dff0aabd-462b-42e5-94ab-51eeb6b0d1c3",
   "metadata": {},
   "outputs": [],
   "source": [
    "cluster = {\"red\":[],\"green\":[], \"blue\":[]}"
   ]
  },
  {
   "cell_type": "markdown",
   "id": "3104117f-962d-4655-9e34-4d3aab4c6728",
   "metadata": {},
   "source": [
    "#### Plotting Ploints"
   ]
  },
  {
   "cell_type": "code",
   "execution_count": 17,
   "id": "c3df8cb9-2f28-494e-ae75-0068d4feb86c",
   "metadata": {},
   "outputs": [
    {
     "data": {
      "image/png": "[encoded data removed]",
      "text/plain": [
       "<Figure size 432x288 with 1 Axes>"
      ]
     },
     "metadata": {
      "needs_background": "light"
     },
     "output_type": "display_data"
    }
   ],
   "source": [
    "plt.scatter(X[:,0],X[:,1],c='black',label='unclustered data')\n",
    "plt.legend()\n",
    "plt.show()"
   ]
  },
  {
   "cell_type": "code",
   "execution_count": 18,
   "id": "3dc1e311-c492-45c1-9b1a-7e28d719238c",
   "metadata": {},
   "outputs": [],
   "source": [
    "colors = []\n",
    "for i in cluster.keys():\n",
    "    colors.append(i)"
   ]
  },
  {
   "cell_type": "code",
   "execution_count": 19,
   "id": "22f8f05f-2afb-493e-beee-b5dedb0ba263",
   "metadata": {},
   "outputs": [],
   "source": [
    "def centeroid_function(points):\n",
    "    n = points.shape[0]\n",
    "    sum_x1 = np.sum(points[:,0])\n",
    "    sum_x2 = np.sum(points[:,1])\n",
    "    return [round(sum_x1/n,3), round(sum_x2/n,3)]"
   ]
  },
  {
   "cell_type": "code",
   "execution_count": 20,
   "id": "cc5ff939-81bf-4983-8b91-f802d5fe3a52",
   "metadata": {},
   "outputs": [],
   "source": [
    "def euclidean_function(x1,x2):\n",
    "    ED = np.sqrt(np.sum(np.square(np.array(x1) - np.array(x2))))\n",
    "    return ED"
   ]
  },
  {
   "cell_type": "markdown",
   "id": "c7e5ae00-bbe8-4620-8c27-0bf517e03671",
   "metadata": {},
   "source": [
    "\n",
    "#### Itteration-1"
   ]
  },
  {
   "cell_type": "code",
   "execution_count": 21,
   "id": "445307cf-2799-4db7-8ca1-65231bec310e",
   "metadata": {},
   "outputs": [],
   "source": [
    "for i in range(len(X)):\n",
    "    distance = [euclidean_function(X[i],center_point[0]), euclidean_function(X[i],center_point[1]),euclidean_function(X[i],center_point[2])]\n",
    "    cluster[colors[distance.index(min(distance))]].append(X[i])"
   ]
  },
  {
   "cell_type": "markdown",
   "id": "e44b7d48-6b1d-428c-96cb-3ddc557a9b6e",
   "metadata": {},
   "source": [
    "## First cluster after 1st itteration"
   ]
  },
  {
   "cell_type": "code",
   "execution_count": 22,
   "id": "d0b286ab-624c-4255-a7d5-dd8797869888",
   "metadata": {},
   "outputs": [
    {
     "name": "stdout",
     "output_type": "stream",
     "text": [
      "First Cluster:[5.171, 3.171]\n"
     ]
    }
   ],
   "source": [
    "center_point[0] = centeroid_function(np.array(cluster['red']))\n",
    "print(f\"First Cluster:{center_point[0]}\")"
   ]
  },
  {
   "cell_type": "code",
   "execution_count": 23,
   "id": "e8fd328f-5327-44bd-81fc-b1c350a57599",
   "metadata": {},
   "outputs": [
    {
     "name": "stdout",
     "output_type": "stream",
     "text": [
      "Second Cluster:[5.5, 4.2]\n"
     ]
    }
   ],
   "source": [
    "center_point[1] = centeroid_function(np.array(cluster['green']))\n",
    "print(f\"Second Cluster:{center_point[1]}\")"
   ]
  },
  {
   "cell_type": "code",
   "execution_count": 24,
   "id": "09f30f3c-4cf5-4e90-ac6f-0a4f12befcc2",
   "metadata": {},
   "outputs": [
    {
     "name": "stdout",
     "output_type": "stream",
     "text": [
      "Third Cluster:[6.45, 2.95]\n"
     ]
    }
   ],
   "source": [
    "center_point[2] = centeroid_function(np.array(cluster['blue']))\n",
    "print(f\"Third Cluster:{center_point[2]}\")"
   ]
  },
  {
   "cell_type": "markdown",
   "id": "0f68e348-f92a-4575-b582-d88c95f8802f",
   "metadata": {},
   "source": [
    "#### Graph after first itteration"
   ]
  },
  {
   "cell_type": "code",
   "execution_count": 25,
   "id": "503da89d-7622-49aa-8442-118467363215",
   "metadata": {},
   "outputs": [
    {
     "data": {
      "image/png": "[encoded data removed]",
      "text/plain": [
       "<Figure size 432x288 with 1 Axes>"
      ]
     },
     "metadata": {
      "needs_background": "light"
     },
     "output_type": "display_data"
    }
   ],
   "source": [
    "for i in colors:\n",
    "    for j in cluster[i]:\n",
    "        plt.scatter(j[0],j[1],c=i,)\n",
    "plt.scatter(center_point[0][0],center_point[0][1],c='black',label = \"Center\")\n",
    "plt.scatter(center_point[1][0],center_point[1][1],c='black')\n",
    "plt.scatter(center_point[2][0],center_point[2][1],c='black')\n",
    "plt.legend()\n",
    "plt.show()"
   ]
  },
  {
   "cell_type": "code",
   "execution_count": 26,
   "id": "ed7cca1d-8555-4562-b20a-121ca508abe0",
   "metadata": {},
   "outputs": [],
   "source": [
    "# Defining Cluster again for new itteration\n",
    "cluster = {\"red\":[],\"green\":[], \"blue\":[]}"
   ]
  },
  {
   "cell_type": "markdown",
   "id": "4da97daa-f40b-4fa3-bd5f-44b183372002",
   "metadata": {},
   "source": [
    "#### Second itteration"
   ]
  },
  {
   "cell_type": "code",
   "execution_count": 27,
   "id": "e9f8d61b-769e-42f0-9fb0-5282ae8d4462",
   "metadata": {},
   "outputs": [],
   "source": [
    "for i in range(len(X)):\n",
    "    distance = [euclidean_function(X[i],center_point[0]), euclidean_function(X[i],center_point[1]),euclidean_function(X[i],center_point[2])]\n",
    "    cluster[colors[distance.index(min(distance))]].append(X[i])"
   ]
  },
  {
   "cell_type": "markdown",
   "id": "6666f783-c15e-4f1d-ade8-f1f67f7359b9",
   "metadata": {},
   "source": [
    "## Second cluster after 2 itterations"
   ]
  },
  {
   "cell_type": "code",
   "execution_count": 28,
   "id": "0723fc1d-224b-4b7f-9458-ad045e30f461",
   "metadata": {},
   "outputs": [
    {
     "name": "stdout",
     "output_type": "stream",
     "text": [
      "Second Cluster:[5.3, 4.0]\n"
     ]
    }
   ],
   "source": [
    "center_point[0] = centeroid_function(np.array(cluster['red']))\n",
    "center_point[1] = centeroid_function(np.array(cluster['green']))\n",
    "center_point[2] = centeroid_function(np.array(cluster['blue']))\n",
    "print(f\"Second Cluster:{center_point[1]}\")"
   ]
  },
  {
   "cell_type": "code",
   "execution_count": 29,
   "id": "dc732ecb-6a57-433c-b67f-d91ff85e7816",
   "metadata": {},
   "outputs": [
    {
     "data": {
      "image/png": "[encoded data removed]",
      "text/plain": [
       "<Figure size 432x288 with 1 Axes>"
      ]
     },
     "metadata": {
      "needs_background": "light"
     },
     "output_type": "display_data"
    }
   ],
   "source": [
    "labels=['cluster1','cluster2','cluster3']\n",
    "for i in colors:\n",
    "    for j in cluster[i]:\n",
    "        plt.scatter(j[0],j[1],c=i)\n",
    "plt.scatter(center_point[0][0],center_point[0][1],c='black',label = \"Center\")\n",
    "plt.scatter(center_point[1][0],center_point[1][1],c='black')\n",
    "plt.scatter(center_point[2][0],center_point[2][1],c='black')\n",
    "plt.legend()\n",
    "plt.show()"
   ]
  },
  {
   "cell_type": "code",
   "execution_count": 30,
   "id": "b9fa97a3-9e5d-44b2-b640-e3c1c5cb56c6",
   "metadata": {},
   "outputs": [
    {
     "name": "stdout",
     "output_type": "stream",
     "text": [
      "Total Number of itterrations:- 3\n"
     ]
    }
   ],
   "source": [
    "temp=[]\n",
    "c = 2\n",
    "temp = center_point\n",
    "for i in range(30):\n",
    "    c = c+1\n",
    "    cluster = {\"red\":[],\"green\":[], \"blue\":[]}\n",
    "    for i in range(len(X)):\n",
    "        distance = [euclidean_function(X[i],center_point[0]), euclidean_function(X[i],center_point[1]),euclidean_function(X[i],center_point[2])]\n",
    "        cluster[colors[distance.index(min(distance))]].append(X[i])\n",
    "    center_point[0] = centeroid_function(np.array(cluster['red']))\n",
    "    center_point[1] = centeroid_function(np.array(cluster['green']))\n",
    "    center_point[2] = centeroid_function(np.array(cluster['blue']))\n",
    "    if(temp == center_point):\n",
    "        break\n",
    "print(f\"Total Number of itterrations:- {c}\")"
   ]
  },
  {
   "cell_type": "code",
   "execution_count": 31,
   "id": "90d66930-1cd8-4ff9-8199-6f662c7a4cd8",
   "metadata": {},
   "outputs": [
    {
     "data": {
      "image/png": "[encoded data removed]",
      "text/plain": [
       "<Figure size 432x288 with 1 Axes>"
      ]
     },
     "metadata": {
      "needs_background": "light"
     },
     "output_type": "display_data"
    }
   ],
   "source": [
    "labels=['cluster1','cluster2','cluster3']\n",
    "for i in colors:\n",
    "    for j in cluster[i]:\n",
    "        plt.scatter(j[0],j[1],c=i)\n",
    "plt.scatter(center_point[0][0],center_point[0][1],c='black',label = \"Center\")\n",
    "plt.scatter(center_point[1][0],center_point[1][1],c='black')\n",
    "plt.scatter(center_point[2][0],center_point[2][1],c='black')\n",
    "plt.legend()\n",
    "plt.show()"
   ]
  },
  {
   "cell_type": "code",
   "execution_count": 32,
   "id": "9ddb5050-2ebf-4a0d-bb83-eaf2e5603076",
   "metadata": {},
   "outputs": [
    {
     "name": "stdout",
     "output_type": "stream",
     "text": [
      "Center of third cluster after the clustering converges:[5.3, 4.0]\n"
     ]
    }
   ],
   "source": [
    "print(f\"Center of third cluster after the clustering converges:{center_point[1]}\")"
   ]
  },
  {
   "cell_type": "code",
   "execution_count": 33,
   "id": "2ea7068b-65f4-4196-b301-f52ca42c0877",
   "metadata": {},
   "outputs": [
    {
     "name": "stdout",
     "output_type": "stream",
     "text": [
      "It took 3 itterations for the cluster to converge\n"
     ]
    }
   ],
   "source": [
    "print(f\"It took {c} itterations for the cluster to converge\")"
   ]
  }
 ],
 "metadata": {
  "kernelspec": {
   "display_name": "Python 3",
   "language": "python",
   "name": "python3"
  },
  "language_info": {
   "codemirror_mode": {
    "name": "ipython",
    "version": 3
   },
   "file_extension": ".py",
   "mimetype": "text/x-python",
   "name": "python",
   "nbconvert_exporter": "python",
   "pygments_lexer": "ipython3",
   "version": "3.8.8"
  }
 },
 "nbformat": 4,
 "nbformat_minor": 5
}
